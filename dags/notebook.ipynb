{
 "cells": [
  {
   "cell_type": "code",
   "execution_count": 1,
   "metadata": {},
   "outputs": [],
   "source": [
    "import dotenv\n",
    "import json\n",
    "import os\n",
    "import psycopg2\n",
    "import requests\n",
    "\n",
    "dotenv.load_dotenv()\n",
    "\n",
    "NYT_API_KEY = os.getenv(\"NYT_API_KEY\")\n",
    "POSTGRES_DATABASE = os.getenv(\"POSTGRES_DATABASE\")\n",
    "POSTGRES_HOST = os.getenv(\"POSTGRES_HOST\")\n",
    "POSTGRES_PASSWORD = os.getenv(\"POSTGRES_PASSWORD\")\n",
    "POSTGRES_PORT = os.getenv(\"POSTGRES_PORT\")\n",
    "POSTGRES_USER = os.getenv(\"POSTGRES_USER\")\n",
    "\n",
    "def get_response(url):\n",
    "    response = requests.get(url)\n",
    "    if response.status_code == 200:\n",
    "        return json.loads(response.text)\n",
    "    else:\n",
    "        # Throw exception on failed request.\n",
    "        print(\"Request failed with status code:\", response.status_code)\n",
    "\n",
    "\n",
    "# Year is YYYY; month is MM if between 10 and 12, else M.\n",
    "def get_archive(year, month):\n",
    "    url = f\"https://api.nytimes.com/svc/archive/v1/{year}/{month}.json?api-key={NYT_API_KEY}\"\n",
    "    return get_response(url)[\"response\"][\"docs\"]\n",
    "\n",
    "\n",
    "# psql postgresql://user:pw@host:port/db\n",
    "def save_archive(archive):\n",
    "    conn = psycopg2.connect(\n",
    "        database = POSTGRES_DATABASE,\n",
    "        host = POSTGRES_HOST,\n",
    "        password = POSTGRES_PASSWORD,\n",
    "        port = POSTGRES_PORT,\n",
    "        user = POSTGRES_USER)\n",
    "\n",
    "    with conn:\n",
    "        with conn.cursor() as cursor:\n",
    "            insert_query = \"INSERT INTO archives_raw (article_json, article_jsonb) VALUES (%s, %s)\"\n",
    "            for article in archive:\n",
    "                json_data = json.dumps(article)\n",
    "                cursor.execute(insert_query, (json_data, json_data))\n",
    "\n",
    "            conn.commit()"
   ]
  },
  {
   "cell_type": "code",
   "execution_count": 2,
   "metadata": {},
   "outputs": [],
   "source": [
    "archive = get_archive(2021, 1)\n",
    "save_archive(archive)"
   ]
  },
  {
   "cell_type": "code",
   "execution_count": 4,
   "metadata": {},
   "outputs": [],
   "source": [
    "# Archives\n",
    "# ########\n",
    "# abstract\n",
    "# web_url\n",
    "# uri\n",
    "# [\"headline\"][\"main\"]\n",
    "# pub_date\n",
    "# section_name\n",
    "# [\"byline\"][\"original\"]\n",
    "\n",
    "# Material can be news article or an editorial\n",
    "# - Keep type field when processing -- should separate editorials from news"
   ]
  }
 ],
 "metadata": {
  "kernelspec": {
   "display_name": "airflow",
   "language": "python",
   "name": "python3"
  },
  "language_info": {
   "codemirror_mode": {
    "name": "ipython",
    "version": 3
   },
   "file_extension": ".py",
   "mimetype": "text/x-python",
   "name": "python",
   "nbconvert_exporter": "python",
   "pygments_lexer": "ipython3",
   "version": "3.10.11"
  },
  "orig_nbformat": 4
 },
 "nbformat": 4,
 "nbformat_minor": 2
}
