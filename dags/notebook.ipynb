{
 "cells": [
  {
   "cell_type": "code",
   "execution_count": 159,
   "metadata": {},
   "outputs": [],
   "source": [
    "import datetime\n",
    "import dotenv\n",
    "import json\n",
    "import os\n",
    "import psycopg2\n",
    "import psycopg2.extras\n",
    "import requests\n",
    "\n",
    "dotenv.load_dotenv()\n",
    "\n",
    "NYT_API_KEY = os.getenv(\"NYT_API_KEY\")\n",
    "POSTGRES_DATABASE = os.getenv(\"POSTGRES_DATABASE\")\n",
    "POSTGRES_HOST = os.getenv(\"POSTGRES_HOST\")\n",
    "POSTGRES_PASSWORD = os.getenv(\"POSTGRES_PASSWORD\")\n",
    "POSTGRES_PORT = os.getenv(\"POSTGRES_PORT\")\n",
    "POSTGRES_USER = os.getenv(\"POSTGRES_USER\")\n",
    "\n",
    "def get_response(url):\n",
    "    response = requests.get(url)\n",
    "    if response.status_code == 200:\n",
    "        return json.loads(response.text)\n",
    "    else:\n",
    "        # todo: Throw exception on failed request.\n",
    "        print(\"Request failed with status code:\", response.status_code)\n",
    "\n",
    "\n",
    "# Year is YYYY; month is MM if between 10 and 12, else M.\n",
    "def get_archive(year, month):\n",
    "    url = f\"https://api.nytimes.com/svc/archive/v1/{year}/{month}.json?api-key={NYT_API_KEY}\"\n",
    "    return get_response(url)[\"response\"][\"docs\"]\n",
    "\n",
    "\n",
    "# psql postgresql://user:pw@host:port/db\n",
    "def save_archive(archive):\n",
    "    conn = psycopg2.connect(\n",
    "        database = POSTGRES_DATABASE,\n",
    "        host = POSTGRES_HOST,\n",
    "        password = POSTGRES_PASSWORD,\n",
    "        port = POSTGRES_PORT,\n",
    "        user = POSTGRES_USER)\n",
    "\n",
    "    with conn:\n",
    "        with conn.cursor() as cursor:\n",
    "            insert_query = \"INSERT INTO archives_raw (article_json, article_jsonb) VALUES (%s, %s)\"\n",
    "            for article in archive:\n",
    "                json_data = json.dumps(article)\n",
    "                cursor.execute(insert_query, (json_data, json_data))\n",
    "\n",
    "            conn.commit()\n",
    "\n",
    "def get_connection():\n",
    "    conn = psycopg2.connect(\n",
    "        database = POSTGRES_DATABASE,\n",
    "        host = POSTGRES_HOST,\n",
    "        password = POSTGRES_PASSWORD,\n",
    "        port = POSTGRES_PORT,\n",
    "        user = POSTGRES_USER)\n",
    "    cursor = conn.cursor(cursor_factory=psycopg2.extras.DictCursor)\n",
    "\n",
    "    return [conn, cursor]\n",
    "\n",
    "\n",
    "def get_batch(size=5):\n",
    "    conn, cursor = get_connection()\n",
    "    with conn:\n",
    "        with cursor:\n",
    "            query = \"\"\"\n",
    "                SELECT \n",
    "                    REPLACE(article_json ->> 'uri', 'nyt://article/', '') AS id,\n",
    "                    article_json -> 'headline' -> 'main' AS headline,\n",
    "                    article_json -> 'abstract' AS abstract,\n",
    "                    article_json -> 'lead_paragraph' AS lead_paragraph,\n",
    "                    article_json -> 'byline' -> 'original' AS byline,\n",
    "                    article_json -> 'type_of_material' AS type,\n",
    "                    (article_json ->> 'pub_date')::timestamp AS pub_date,\n",
    "                    article_json -> 'web_url' AS url\n",
    "                FROM archives_raw\n",
    "                WHERE (article_json ->> 'web_url') NOT IN (\n",
    "                    SELECT url FROM articles\n",
    "                );\n",
    "            \"\"\"\n",
    "            cursor.execute(query)\n",
    "            results = cursor.fetchmany(size)\n",
    "\n",
    "    conn, cursor = get_connection()\n",
    "    with conn:\n",
    "        with cursor:\n",
    "            insert_query = \"INSERT INTO articles (id, headline, abstract, lead_paragraph, byline, type, pub_date, url) VALUES (%s, %s, %s, %s, %s, %s, %s, %s)\"\n",
    "            for row in results:\n",
    "                cursor.execute(insert_query, row)\n",
    "            conn.commit()\n",
    "\n",
    "    return results\n"
   ]
  },
  {
   "cell_type": "code",
   "execution_count": 160,
   "metadata": {},
   "outputs": [],
   "source": [
    "def get_last_run():\n",
    "    # Get completed run months from archives_raw table\n",
    "        # Get oldest date (?min)\n",
    "        # Subtract one month\n",
    "\n",
    "    conn, cursor = get_connection()\n",
    "    with conn:\n",
    "        with cursor:\n",
    "            query = \"\"\"\n",
    "                SELECT \n",
    "                    MIN((article_json ->> 'pub_date')::date) AS pub_date\n",
    "                FROM archives_raw\n",
    "            \"\"\"\n",
    "            cursor.execute(query)\n",
    "            result = cursor.fetchone()\n",
    "            \n",
    "    return result[0]\n",
    "\n",
    "def get_next_run():\n",
    "    previous = get_last_run()\n",
    "    if previous:\n",
    "        next = previous - datetime.timedelta(weeks=4)\n",
    "    else:\n",
    "        next = datetime.datetime.strptime(\"2022-12-01\", \"%Y-%m-%d\")\n",
    "\n",
    "    return next"
   ]
  },
  {
   "cell_type": "code",
   "execution_count": 161,
   "metadata": {},
   "outputs": [
    {
     "name": "stdout",
     "output_type": "stream",
     "text": [
      "2022 12\n"
     ]
    }
   ],
   "source": [
    "# next = get_next_run()\n",
    "# print(next.year, next.month)"
   ]
  },
  {
   "cell_type": "code",
   "execution_count": 162,
   "metadata": {},
   "outputs": [],
   "source": [
    "# results = get_batch()"
   ]
  },
  {
   "cell_type": "code",
   "execution_count": 163,
   "metadata": {},
   "outputs": [],
   "source": [
    "# archive = get_archive(2021, 1)\n",
    "# save_archive(archive)"
   ]
  },
  {
   "cell_type": "code",
   "execution_count": 164,
   "metadata": {},
   "outputs": [
    {
     "data": {
      "text/plain": [
       "'CREATE TABLE IF NOT EXISTS nyt_archive (\\n    article JSONB\\n);'"
      ]
     },
     "execution_count": 164,
     "metadata": {},
     "output_type": "execute_result"
    }
   ],
   "source": [
    "query_file = \"sql/create_nyt_archive.sql\"\n",
    "with open(query_file, 'r') as file:\n",
    "    query = file.read()\n",
    "\n",
    "query"
   ]
  }
 ],
 "metadata": {
  "kernelspec": {
   "display_name": "airflow",
   "language": "python",
   "name": "python3"
  },
  "language_info": {
   "codemirror_mode": {
    "name": "ipython",
    "version": 3
   },
   "file_extension": ".py",
   "mimetype": "text/x-python",
   "name": "python",
   "nbconvert_exporter": "python",
   "pygments_lexer": "ipython3",
   "version": "3.10.11"
  },
  "orig_nbformat": 4
 },
 "nbformat": 4,
 "nbformat_minor": 2
}
